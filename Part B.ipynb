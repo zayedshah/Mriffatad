{
 "cells": [
  {
   "cell_type": "markdown",
   "metadata": {},
   "source": [
    "# Part B"
   ]
  },
  {
   "cell_type": "markdown",
   "metadata": {},
   "source": [
    "Create a list of the 100 most popular songs (artist and title) in the dataset, with the number of\n",
    "times each was played."
   ]
  },
  {
   "cell_type": "markdown",
   "metadata": {},
   "source": [
    "Let's import pandas and read in the file. \n",
    "\n",
    "I have done this separately to make it easier to read. Otherwise I could have combined all solutions from Part A to C in one notebook, but that might have discouraged someone to read through the whole thing at once."
   ]
  },
  {
   "cell_type": "code",
   "execution_count": 1,
   "metadata": {
    "collapsed": true
   },
   "outputs": [],
   "source": [
    "import pandas as pd"
   ]
  },
  {
   "cell_type": "code",
   "execution_count": 2,
   "metadata": {
    "collapsed": true
   },
   "outputs": [],
   "source": [
    "df = pd.read_table('Files/userid-timestamp-artid-artname-traid-traname.tsv',\n",
    "                   names=['userid', 'timestamp', 'artid', 'artname', 'traid', 'traname'],\n",
    "                   header=None)"
   ]
  },
  {
   "cell_type": "markdown",
   "metadata": {},
   "source": [
    "We can now group by Artist name, then by track names, and the count of number of times each song was played. And I filter the largest 100. \n",
    "\n",
    "So we get the 100 most popular songs (with Artist and Track Title), with the number of times each song was played.\n",
    "\n",
    "We can see that Kanye West song 'See You In My Nightmares' was the most popular song. It was played 2069 times. "
   ]
  },
  {
   "cell_type": "code",
   "execution_count": 3,
   "metadata": {
    "scrolled": true
   },
   "outputs": [
    {
     "data": {
      "text/plain": [
       "artname                traname                                                                            \n",
       "Kanye West             See You In My Nightmares                                                               2069\n",
       "                       Say You Will                                                                           2065\n",
       "                       Heartless                                                                              2063\n",
       "                       Love Lockdown                                                                          2062\n",
       "                       Welcome To Heartbreak (Feat. Kid Cudi)                                                 2059\n",
       "                       Coldest Winter                                                                         2052\n",
       "                       Paranoid (Feat. Mr. Hudson)                                                            2051\n",
       "                       Amazing (Feat. Young Jeezy)                                                            2049\n",
       "                       Pinocchio Story (Freestyle Live From Singapore)                                        2041\n",
       "                       Bad News                                                                               2026\n",
       "                       Robocop                                                                                1893\n",
       "                       Street Lights                                                                          1865\n",
       "植松伸夫                   Somnus Memoria                                                                          730\n",
       "Akira Yamaoka          Theme Of Laura (Reprise)                                                                512\n",
       "Massive Attack         Teardrop                                                                                446\n",
       "Gustavo Santaolalla    Can Things Be Better?                                                                   431\n",
       "Muse                   Hysteria                                                                                402\n",
       "黒夢                     少年 -Screw Mix-                                                                          391\n",
       "Radiohead              Karma Police                                                                            383\n",
       "The Prodigy            Omen                                                                                    379\n",
       "Massive Attack         Butterfly Caught                                                                        377\n",
       "Mucc                   Kasa Ga Nai                                                                             370\n",
       "Serj Tankian           Lie Lie Lie                                                                             360\n",
       "Clint Mansell          Together We Will Live Forever                                                           359\n",
       "Story One              Russian Dolls                                                                           348\n",
       "Muse                   Time Is Running Out                                                                     345\n",
       "Massive Attack         Mezzanine                                                                               341\n",
       "T.I.                   56 Bars (Intro)                                                                         341\n",
       "                       Live Your Life (Feat. Rihanna)                                                          340\n",
       "                       Ready For Whatever                                                                      338\n",
       "                                                                                                              ... \n",
       "Gustavo Santaolalla    When Our Wings Are Cut, Can We Still Fly? (Feat. Chamber Orchestra: Kronos Quartet)     222\n",
       "Depeche Mode           Damaged People                                                                          213\n",
       "Safetysuit             Anywhere But Here                                                                       212\n",
       "Gustavo Santaolalla    Does He Who Looks For The Truth, Deserve The Punishment For Finding It?                 212\n",
       "Akira Yamaoka          Your Rain                                                                               212\n",
       "Gustavo Santaolalla    Can Light Be Found In The Darkness?                                                     212\n",
       "Massive Attack         Angel                                                                                   212\n",
       "Gustavo Santaolalla    Did This Really Happen?                                                                 211\n",
       "Mylo                   In My Arms                                                                              211\n",
       "Coldplay               The Scientist                                                                           204\n",
       "Akira Yamaoka          Tender Sugar                                                                            203\n",
       "Portishead             Roads                                                                                   201\n",
       "Röyksopp               What Else Is There                                                                      199\n",
       "Story One              Lanes                                                                                   198\n",
       "Akira Yamaoka          Theme Of Laura                                                                          197\n",
       "A Perfect Circle       The Nurse Who Loved Me                                                                  197\n",
       "Massive Attack         False Flags                                                                             197\n",
       "Radiohead              15 Step                                                                                 195\n",
       "                       Videotape                                                                               194\n",
       "Kanye West             Can'T Tell Me Nothing                                                                   193\n",
       "Clint Mansell          Lux Aeterna                                                                             193\n",
       "Radiohead              Nude                                                                                    192\n",
       "The Smashing Pumpkins  Disarm                                                                                  192\n",
       "David Guetta           The World Is Mine (Album Version)                                                       191\n",
       "Radiohead              Bodysnatchers                                                                           191\n",
       "Dir En Grey            Ryoujoku No Ame                                                                         187\n",
       "Nine Inch Nails        Discipline                                                                              187\n",
       "Muse                   Sing For Absolution                                                                     186\n",
       "                       Starlight                                                                               185\n",
       "                       Supermassive Black Hole                                                                 182\n",
       "Length: 100, dtype: int64"
      ]
     },
     "execution_count": 3,
     "metadata": {},
     "output_type": "execute_result"
    }
   ],
   "source": [
    "df.groupby(['artname','traname']).size().sort_values(ascending=False).nlargest(100)"
   ]
  },
  {
   "cell_type": "markdown",
   "metadata": {},
   "source": [
    "I was curious to see which users played the most popular songs. \n",
    "\n",
    "So I put in userid in the group by, and I see that it was user 08 who was playing all the Kanye West songs quite many times. Looks like we have a big fan of Kanye West in user 08."
   ]
  },
  {
   "cell_type": "code",
   "execution_count": 4,
   "metadata": {
    "scrolled": true
   },
   "outputs": [
    {
     "data": {
      "text/plain": [
       "artname              traname                                          userid     \n",
       "Kanye West           See You In My Nightmares                         user_000008    2069\n",
       "                     Say You Will                                     user_000008    2065\n",
       "                     Heartless                                        user_000008    2062\n",
       "                     Love Lockdown                                    user_000008    2059\n",
       "                     Welcome To Heartbreak (Feat. Kid Cudi)           user_000008    2059\n",
       "                     Coldest Winter                                   user_000008    2052\n",
       "                     Paranoid (Feat. Mr. Hudson)                      user_000008    2051\n",
       "                     Amazing (Feat. Young Jeezy)                      user_000008    2049\n",
       "                     Pinocchio Story (Freestyle Live From Singapore)  user_000008    2041\n",
       "                     Bad News                                         user_000008    2026\n",
       "                     Robocop                                          user_000008    1893\n",
       "                     Street Lights                                    user_000008    1865\n",
       "植松伸夫                 Somnus Memoria                                   user_000033     730\n",
       "Akira Yamaoka        Theme Of Laura (Reprise)                         user_000023     512\n",
       "Gustavo Santaolalla  Can Things Be Better?                            user_000023     431\n",
       "黒夢                   少年 -Screw Mix-                                   user_000033     391\n",
       "The Prodigy          Omen                                             user_000010     377\n",
       "Mucc                 Kasa Ga Nai                                      user_000033     370\n",
       "Massive Attack       Butterfly Caught                                 user_000023     369\n",
       "Story One            Russian Dolls                                    user_000023     348\n",
       "T.I.                 56 Bars (Intro)                                  user_000008     341\n",
       "                     Live Your Life (Feat. Rihanna)                   user_000008     340\n",
       "                     Ready For Whatever                               user_000008     338\n",
       "                     My Life Your Entertainment (Feat. Usher)         user_000008     337\n",
       "                     No Matter What                                   user_000008     337\n",
       "                     Dead And Gone (Feat. Justin Timberlake)          user_000008     337\n",
       "                     I'M Illy                                         user_000008     336\n",
       "                     On Top Of The World (Feat. Ludacris & B.O.B.)    user_000008     334\n",
       "Nine Inch Nails      Ghosts Piggy                                     user_000015     333\n",
       "T.I.                 What Up, What'S Haapnin'                         user_000008     333\n",
       "                                                                                     ... \n",
       "Daft Punk            Harder, Better, Faster, Stronger                 user_000023     198\n",
       "Story One            Lanes                                            user_000023     198\n",
       "Massive Attack       False Flags                                      user_000023     196\n",
       "Akira Yamaoka        Theme Of Laura                                   user_000023     195\n",
       "Serj Tankian         Lie Lie Lie                                      user_000033     191\n",
       "David Guetta         The World Is Mine (Album Version)                user_000005     191\n",
       "Dir En Grey          Ryoujoku No Ame                                  user_000033     187\n",
       "Muse                 Hysteria                                         user_000019     186\n",
       "Clint Mansell        Lux Aeterna                                      user_000023     185\n",
       "Frou Frou            Close Up                                         user_000026     181\n",
       "Akira Yamaoka        Rain Of Brass Petals (Three Voices Edit)         user_000023     181\n",
       "Xavier Naidoo        Kleines Lied (Kinderlied)                        user_000023     181\n",
       "Kanye West           Gay Fish                                         user_000008     177\n",
       "The Gathering        My Electricity                                   user_000032     177\n",
       "Imogen Heap          Whatever                                         user_000023     176\n",
       "Kanye West           Can'T Tell Me Nothing                            user_000008     175\n",
       "Amanda Palmer        Blake Says                                       user_000033     174\n",
       "Incubus              A Certain Shade Of Green                         user_000019     174\n",
       "Depeche Mode         Breathe                                          user_000023     172\n",
       "A Perfect Circle     3 Libras                                         user_000019     172\n",
       "Muse                 Time Is Running Out                              user_000019     171\n",
       "Tricky               Overcome                                         user_000019     170\n",
       "Dave Matthews        Baby                                             user_000023     169\n",
       "Porcupine Tree       The Sound Of Muzak                               user_000026     169\n",
       "After Forever        Intrinsic                                        user_000032     169\n",
       "Serj Tankian         Lie Lie Lie                                      user_000023     169\n",
       "Nine Inch Nails      Discipline                                       user_000023     168\n",
       "Amanda Palmer        Astronaut: A Short History Of Nearly Nothing     user_000033     166\n",
       "A Perfect Circle     The Nurse Who Loved Me                           user_000023     166\n",
       "The Fray             How To Save A Life                               user_000008     165\n",
       "Length: 100, dtype: int64"
      ]
     },
     "execution_count": 4,
     "metadata": {},
     "output_type": "execute_result"
    }
   ],
   "source": [
    "df.groupby(['artname','traname','userid']).size().sort_values(ascending=False).nlargest(100)"
   ]
  },
  {
   "cell_type": "markdown",
   "metadata": {},
   "source": [
    "I wanted to do some reconciliation to see if the number of songs added up correctly after grouping by.\n",
    "\n",
    "And it did. When I summed the number of times each song was played, I get total 835873, which is what I was expecting to verify that the grouping was being done correctly. The number was verified against the df.info() operation performed in Part A ('artname', total count = 835873)."
   ]
  },
  {
   "cell_type": "code",
   "execution_count": 5,
   "metadata": {
    "scrolled": true
   },
   "outputs": [
    {
     "data": {
      "text/plain": [
       "artname                 traname                                        \n",
       "Kanye West              See You In My Nightmares                           2069\n",
       "                        Say You Will                                       2065\n",
       "                        Heartless                                          2063\n",
       "                        Love Lockdown                                      2062\n",
       "                        Welcome To Heartbreak (Feat. Kid Cudi)             2059\n",
       "                        Coldest Winter                                     2052\n",
       "                        Paranoid (Feat. Mr. Hudson)                        2051\n",
       "                        Amazing (Feat. Young Jeezy)                        2049\n",
       "                        Pinocchio Story (Freestyle Live From Singapore)    2041\n",
       "                        Bad News                                           2026\n",
       "                        Robocop                                            1893\n",
       "                        Street Lights                                      1865\n",
       "植松伸夫                    Somnus Memoria                                      730\n",
       "Akira Yamaoka           Theme Of Laura (Reprise)                            512\n",
       "Massive Attack          Teardrop                                            446\n",
       "Gustavo Santaolalla     Can Things Be Better?                               431\n",
       "Muse                    Hysteria                                            402\n",
       "黒夢                      少年 -Screw Mix-                                      391\n",
       "Radiohead               Karma Police                                        383\n",
       "The Prodigy             Omen                                                379\n",
       "Massive Attack          Butterfly Caught                                    377\n",
       "Mucc                    Kasa Ga Nai                                         370\n",
       "Serj Tankian            Lie Lie Lie                                         360\n",
       "Clint Mansell           Together We Will Live Forever                       359\n",
       "Story One               Russian Dolls                                       348\n",
       "Muse                    Time Is Running Out                                 345\n",
       "Massive Attack          Mezzanine                                           341\n",
       "T.I.                    56 Bars (Intro)                                     341\n",
       "                        Live Your Life (Feat. Rihanna)                      340\n",
       "                        Ready For Whatever                                  338\n",
       "                                                                           ... \n",
       "Mc Жан & Dj Riga        Имя Твоё                                              1\n",
       "Mc5                     Borderline                                            1\n",
       "Mazzy Star              Hair And Skin                                         1\n",
       "Mc5                     I Just Don'T Know                                     1\n",
       "                        I Want You Right Now                                  1\n",
       "                        Looking At You                                        1\n",
       "                        Starship                                              1\n",
       "                        Talk/Rocket Reducer No. 62 (Lp Version)               1\n",
       "Mcalmont & Butler       Back For Good (Take That)                             1\n",
       "Mcauley-Schenker Group  Doctor Doctor                                         1\n",
       "Mc Levels               Hey Girl                                              1\n",
       "                        Classy                                                1\n",
       "                        And 1 Killin It                                       1\n",
       "Mc Janik                Crime                                                 1\n",
       "Mazzy Star              I'M Sailin'                                           1\n",
       "                        Taste Of Blood                                        1\n",
       "Małgorzata Walewska     Canto D'Ucelli                                        1\n",
       "Mbconn                  Like The Way                                          1\n",
       "Mc 900 Ft Jesus         Stare And Stare                                       1\n",
       "Mc Breed                Ain'T No Future In Your Frontin'                      1\n",
       "Mc Face                 Devil In The Scope                                    1\n",
       "                        Extro                                                 1\n",
       "                        J-Roo On The Loose                                    1\n",
       "                        Jiffy Pop                                             1\n",
       "                        Just Hit Me                                           1\n",
       "                        Prelude - Dustin Hoffman                              1\n",
       "                        Rock The Mike Tonight                                 1\n",
       "                        Sex Offender                                          1\n",
       "                        Slaughter Ya Oughta                                   1\n",
       "Mashuptown.Com          Britney Vs. Muse                                      1\n",
       "Length: 138158, dtype: int64"
      ]
     },
     "execution_count": 5,
     "metadata": {},
     "output_type": "execute_result"
    }
   ],
   "source": [
    "df.groupby(['artname','traname']).size().sort_values(ascending=False)"
   ]
  },
  {
   "cell_type": "code",
   "execution_count": 6,
   "metadata": {},
   "outputs": [
    {
     "data": {
      "text/plain": [
       "835873"
      ]
     },
     "execution_count": 6,
     "metadata": {},
     "output_type": "execute_result"
    }
   ],
   "source": [
    "df.groupby(['artname','traname']).size().sort_values(ascending=False).sum()"
   ]
  }
 ],
 "metadata": {
  "kernelspec": {
   "display_name": "Python 3",
   "language": "python",
   "name": "python3"
  },
  "language_info": {
   "codemirror_mode": {
    "name": "ipython",
    "version": 3
   },
   "file_extension": ".py",
   "mimetype": "text/x-python",
   "name": "python",
   "nbconvert_exporter": "python",
   "pygments_lexer": "ipython3",
   "version": "3.6.1"
  }
 },
 "nbformat": 4,
 "nbformat_minor": 2
}
