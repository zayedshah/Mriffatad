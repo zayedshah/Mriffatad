{
 "cells": [
  {
   "cell_type": "markdown",
   "metadata": {},
   "source": [
    "## Part A"
   ]
  },
  {
   "cell_type": "markdown",
   "metadata": {},
   "source": [
    "Create a list of user IDs, along with the number of distinct songs each user has played."
   ]
  },
  {
   "cell_type": "markdown",
   "metadata": {},
   "source": [
    "Let's check version of Python and Pandas"
   ]
  },
  {
   "cell_type": "code",
   "execution_count": 1,
   "metadata": {
    "collapsed": true
   },
   "outputs": [],
   "source": [
    "import platform"
   ]
  },
  {
   "cell_type": "code",
   "execution_count": 2,
   "metadata": {},
   "outputs": [
    {
     "name": "stdout",
     "output_type": "stream",
     "text": [
      "Python version\n"
     ]
    },
    {
     "data": {
      "text/plain": [
       "'3.6.1'"
      ]
     },
     "execution_count": 2,
     "metadata": {},
     "output_type": "execute_result"
    }
   ],
   "source": [
    "print('Python version')\n",
    "platform.python_version()"
   ]
  },
  {
   "cell_type": "code",
   "execution_count": 3,
   "metadata": {
    "collapsed": true
   },
   "outputs": [],
   "source": [
    "import pandas as pd"
   ]
  },
  {
   "cell_type": "code",
   "execution_count": 4,
   "metadata": {},
   "outputs": [
    {
     "name": "stdout",
     "output_type": "stream",
     "text": [
      "Pandas version\n"
     ]
    },
    {
     "data": {
      "text/plain": [
       "'0.20.1'"
      ]
     },
     "execution_count": 4,
     "metadata": {},
     "output_type": "execute_result"
    }
   ],
   "source": [
    "print('Pandas version')\n",
    "pd.__version__"
   ]
  },
  {
   "cell_type": "markdown",
   "metadata": {},
   "source": [
    "Reading in the file.\n",
    "\n",
    "I had played around with the file, and I saw that there were no headers, so I have put in the headers in the command as below.\n",
    "\n",
    "I noticed that the expected row count in the file is around 12 million. I checked this with UNIX as well, and it confirmed (when I tried to open the files in Windows using Notepad++ or Sublime, I got nowhere. The file size was too big for them to  handle). \n",
    "\n",
    "When I read in the file  in pandas, it read in only around 800k rows. May be there is some limits with large file size in Pandas or may be I need to upgrade my laptop spec.\n",
    "\n",
    "I will go ahead and tackle the exercises with the 800k as it is a subset of the 12 million. The logic applied to 800k will be same as the one that will be applied to 12 million. I hope this is alright.\n",
    "\n",
    "As we will see below, we get a dataset for 33 users. In the original file, there were around 1000 users."
   ]
  },
  {
   "cell_type": "code",
   "execution_count": 5,
   "metadata": {
    "collapsed": true,
    "scrolled": true
   },
   "outputs": [],
   "source": [
    "df = pd.read_table('Files/userid-timestamp-artid-artname-traid-traname.tsv',\n",
    "                   names=['userid', 'timestamp', 'artid', 'artname', 'traid', 'traname'],\n",
    "                   header=None)"
   ]
  },
  {
   "cell_type": "markdown",
   "metadata": {},
   "source": [
    "Let's take a look at the first few lines.\n",
    "\n",
    "The column names are displayed as expected. So far so good."
   ]
  },
  {
   "cell_type": "code",
   "execution_count": 6,
   "metadata": {},
   "outputs": [
    {
     "data": {
      "text/html": [
       "<div>\n",
       "<style>\n",
       "    .dataframe thead tr:only-child th {\n",
       "        text-align: right;\n",
       "    }\n",
       "\n",
       "    .dataframe thead th {\n",
       "        text-align: left;\n",
       "    }\n",
       "\n",
       "    .dataframe tbody tr th {\n",
       "        vertical-align: top;\n",
       "    }\n",
       "</style>\n",
       "<table border=\"1\" class=\"dataframe\">\n",
       "  <thead>\n",
       "    <tr style=\"text-align: right;\">\n",
       "      <th></th>\n",
       "      <th>userid</th>\n",
       "      <th>timestamp</th>\n",
       "      <th>artid</th>\n",
       "      <th>artname</th>\n",
       "      <th>traid</th>\n",
       "      <th>traname</th>\n",
       "    </tr>\n",
       "  </thead>\n",
       "  <tbody>\n",
       "    <tr>\n",
       "      <th>0</th>\n",
       "      <td>user_000001</td>\n",
       "      <td>2009-05-04T23:08:57Z</td>\n",
       "      <td>f1b1cf71-bd35-4e99-8624-24a6e15f133a</td>\n",
       "      <td>Deep Dish</td>\n",
       "      <td>NaN</td>\n",
       "      <td>Fuck Me Im Famous (Pacha Ibiza)-09-28-2007</td>\n",
       "    </tr>\n",
       "    <tr>\n",
       "      <th>1</th>\n",
       "      <td>user_000001</td>\n",
       "      <td>2009-05-04T13:54:10Z</td>\n",
       "      <td>a7f7df4a-77d8-4f12-8acd-5c60c93f4de8</td>\n",
       "      <td>坂本龍一</td>\n",
       "      <td>NaN</td>\n",
       "      <td>Composition 0919 (Live_2009_4_15)</td>\n",
       "    </tr>\n",
       "    <tr>\n",
       "      <th>2</th>\n",
       "      <td>user_000001</td>\n",
       "      <td>2009-05-04T13:52:04Z</td>\n",
       "      <td>a7f7df4a-77d8-4f12-8acd-5c60c93f4de8</td>\n",
       "      <td>坂本龍一</td>\n",
       "      <td>NaN</td>\n",
       "      <td>Mc2 (Live_2009_4_15)</td>\n",
       "    </tr>\n",
       "    <tr>\n",
       "      <th>3</th>\n",
       "      <td>user_000001</td>\n",
       "      <td>2009-05-04T13:42:52Z</td>\n",
       "      <td>a7f7df4a-77d8-4f12-8acd-5c60c93f4de8</td>\n",
       "      <td>坂本龍一</td>\n",
       "      <td>NaN</td>\n",
       "      <td>Hibari (Live_2009_4_15)</td>\n",
       "    </tr>\n",
       "    <tr>\n",
       "      <th>4</th>\n",
       "      <td>user_000001</td>\n",
       "      <td>2009-05-04T13:42:11Z</td>\n",
       "      <td>a7f7df4a-77d8-4f12-8acd-5c60c93f4de8</td>\n",
       "      <td>坂本龍一</td>\n",
       "      <td>NaN</td>\n",
       "      <td>Mc1 (Live_2009_4_15)</td>\n",
       "    </tr>\n",
       "  </tbody>\n",
       "</table>\n",
       "</div>"
      ],
      "text/plain": [
       "        userid             timestamp                                 artid  \\\n",
       "0  user_000001  2009-05-04T23:08:57Z  f1b1cf71-bd35-4e99-8624-24a6e15f133a   \n",
       "1  user_000001  2009-05-04T13:54:10Z  a7f7df4a-77d8-4f12-8acd-5c60c93f4de8   \n",
       "2  user_000001  2009-05-04T13:52:04Z  a7f7df4a-77d8-4f12-8acd-5c60c93f4de8   \n",
       "3  user_000001  2009-05-04T13:42:52Z  a7f7df4a-77d8-4f12-8acd-5c60c93f4de8   \n",
       "4  user_000001  2009-05-04T13:42:11Z  a7f7df4a-77d8-4f12-8acd-5c60c93f4de8   \n",
       "\n",
       "     artname traid                                     traname  \n",
       "0  Deep Dish   NaN  Fuck Me Im Famous (Pacha Ibiza)-09-28-2007  \n",
       "1       坂本龍一   NaN           Composition 0919 (Live_2009_4_15)  \n",
       "2       坂本龍一   NaN                        Mc2 (Live_2009_4_15)  \n",
       "3       坂本龍一   NaN                     Hibari (Live_2009_4_15)  \n",
       "4       坂本龍一   NaN                        Mc1 (Live_2009_4_15)  "
      ]
     },
     "execution_count": 6,
     "metadata": {},
     "output_type": "execute_result"
    }
   ],
   "source": [
    "df.head()"
   ]
  },
  {
   "cell_type": "markdown",
   "metadata": {},
   "source": [
    "Let's take a look at the last few lines.\n",
    "\n",
    "The last few lines show rows for user 33, and as we can see, the row count is around 800k. "
   ]
  },
  {
   "cell_type": "code",
   "execution_count": 7,
   "metadata": {},
   "outputs": [
    {
     "data": {
      "text/html": [
       "<div>\n",
       "<style>\n",
       "    .dataframe thead tr:only-child th {\n",
       "        text-align: right;\n",
       "    }\n",
       "\n",
       "    .dataframe thead th {\n",
       "        text-align: left;\n",
       "    }\n",
       "\n",
       "    .dataframe tbody tr th {\n",
       "        vertical-align: top;\n",
       "    }\n",
       "</style>\n",
       "<table border=\"1\" class=\"dataframe\">\n",
       "  <thead>\n",
       "    <tr style=\"text-align: right;\">\n",
       "      <th></th>\n",
       "      <th>userid</th>\n",
       "      <th>timestamp</th>\n",
       "      <th>artid</th>\n",
       "      <th>artname</th>\n",
       "      <th>traid</th>\n",
       "      <th>traname</th>\n",
       "    </tr>\n",
       "  </thead>\n",
       "  <tbody>\n",
       "    <tr>\n",
       "      <th>835868</th>\n",
       "      <td>user_000033</td>\n",
       "      <td>2007-05-24T20:07:13Z</td>\n",
       "      <td>b5fb0f1a-2cd4-4759-9d80-648643f70c43</td>\n",
       "      <td>シートベルツ</td>\n",
       "      <td>6bd67df3-5acc-4325-a0f2-4fddf4b0b7d8</td>\n",
       "      <td>No Reply</td>\n",
       "    </tr>\n",
       "    <tr>\n",
       "      <th>835869</th>\n",
       "      <td>user_000033</td>\n",
       "      <td>2007-05-24T20:04:53Z</td>\n",
       "      <td>4d49a36d-76a4-48b1-b1ae-9a94bc980345</td>\n",
       "      <td>Ferenc Snétberger</td>\n",
       "      <td>NaN</td>\n",
       "      <td>Kelas(Let'S-Dance)[Instrumental Version]</td>\n",
       "    </tr>\n",
       "    <tr>\n",
       "      <th>835870</th>\n",
       "      <td>user_000033</td>\n",
       "      <td>2007-05-24T20:01:50Z</td>\n",
       "      <td>4d49a36d-76a4-48b1-b1ae-9a94bc980345</td>\n",
       "      <td>Ferenc Snétberger</td>\n",
       "      <td>NaN</td>\n",
       "      <td>Kelas(Let'S-Dance)</td>\n",
       "    </tr>\n",
       "    <tr>\n",
       "      <th>835871</th>\n",
       "      <td>user_000033</td>\n",
       "      <td>2007-05-24T19:56:32Z</td>\n",
       "      <td>34cf95c7-4be9-4efd-a48a-c2ea4a0bb114</td>\n",
       "      <td>America</td>\n",
       "      <td>NaN</td>\n",
       "      <td>That'S All I'Ve Got To Say</td>\n",
       "    </tr>\n",
       "    <tr>\n",
       "      <th>835872</th>\n",
       "      <td>user_000033</td>\n",
       "      <td>2007-05-24T19:50:25Z</td>\n",
       "      <td>NaN</td>\n",
       "      <td>~8+</td>\n",
       "      <td>NaN</td>\n",
       "      <td>Ťč</td>\n",
       "    </tr>\n",
       "  </tbody>\n",
       "</table>\n",
       "</div>"
      ],
      "text/plain": [
       "             userid             timestamp  \\\n",
       "835868  user_000033  2007-05-24T20:07:13Z   \n",
       "835869  user_000033  2007-05-24T20:04:53Z   \n",
       "835870  user_000033  2007-05-24T20:01:50Z   \n",
       "835871  user_000033  2007-05-24T19:56:32Z   \n",
       "835872  user_000033  2007-05-24T19:50:25Z   \n",
       "\n",
       "                                       artid            artname  \\\n",
       "835868  b5fb0f1a-2cd4-4759-9d80-648643f70c43             シートベルツ   \n",
       "835869  4d49a36d-76a4-48b1-b1ae-9a94bc980345  Ferenc Snétberger   \n",
       "835870  4d49a36d-76a4-48b1-b1ae-9a94bc980345  Ferenc Snétberger   \n",
       "835871  34cf95c7-4be9-4efd-a48a-c2ea4a0bb114            America   \n",
       "835872                                   NaN                ~8+   \n",
       "\n",
       "                                       traid  \\\n",
       "835868  6bd67df3-5acc-4325-a0f2-4fddf4b0b7d8   \n",
       "835869                                   NaN   \n",
       "835870                                   NaN   \n",
       "835871                                   NaN   \n",
       "835872                                   NaN   \n",
       "\n",
       "                                         traname  \n",
       "835868                                  No Reply  \n",
       "835869  Kelas(Let'S-Dance)[Instrumental Version]  \n",
       "835870                        Kelas(Let'S-Dance)  \n",
       "835871                That'S All I'Ve Got To Say  \n",
       "835872                                        Ťč  "
      ]
     },
     "execution_count": 7,
     "metadata": {},
     "output_type": "execute_result"
    }
   ],
   "source": [
    "df.tail()"
   ]
  },
  {
   "cell_type": "markdown",
   "metadata": {},
   "source": [
    "The below command gives an overall view of the dataset. \n",
    "\n",
    "This is useful to see the row count and to get an idea of null values in the dataset."
   ]
  },
  {
   "cell_type": "code",
   "execution_count": 8,
   "metadata": {},
   "outputs": [
    {
     "name": "stdout",
     "output_type": "stream",
     "text": [
      "<class 'pandas.core.frame.DataFrame'>\n",
      "RangeIndex: 835873 entries, 0 to 835872\n",
      "Data columns (total 6 columns):\n",
      "userid       835873 non-null object\n",
      "timestamp    835873 non-null object\n",
      "artid        810829 non-null object\n",
      "artname      835873 non-null object\n",
      "traid        733552 non-null object\n",
      "traname      835873 non-null object\n",
      "dtypes: object(6)\n",
      "memory usage: 38.3+ MB\n"
     ]
    }
   ],
   "source": [
    "df.info()"
   ]
  },
  {
   "cell_type": "markdown",
   "metadata": {},
   "source": [
    "The below command further describes the dataset.\n",
    "\n",
    "As we can see, there are 33 unique users. 'artid' which is Artist ID has less rows than 'artname' (Artist Name), so it is saying that some Artists do not have their IDs. Similarly, some Track names do not have their IDs (traid is less than traname)."
   ]
  },
  {
   "cell_type": "code",
   "execution_count": 9,
   "metadata": {},
   "outputs": [
    {
     "data": {
      "text/html": [
       "<div>\n",
       "<style>\n",
       "    .dataframe thead tr:only-child th {\n",
       "        text-align: right;\n",
       "    }\n",
       "\n",
       "    .dataframe thead th {\n",
       "        text-align: left;\n",
       "    }\n",
       "\n",
       "    .dataframe tbody tr th {\n",
       "        vertical-align: top;\n",
       "    }\n",
       "</style>\n",
       "<table border=\"1\" class=\"dataframe\">\n",
       "  <thead>\n",
       "    <tr style=\"text-align: right;\">\n",
       "      <th></th>\n",
       "      <th>userid</th>\n",
       "      <th>timestamp</th>\n",
       "      <th>artid</th>\n",
       "      <th>artname</th>\n",
       "      <th>traid</th>\n",
       "      <th>traname</th>\n",
       "    </tr>\n",
       "  </thead>\n",
       "  <tbody>\n",
       "    <tr>\n",
       "      <th>count</th>\n",
       "      <td>835873</td>\n",
       "      <td>835873</td>\n",
       "      <td>810829</td>\n",
       "      <td>835873</td>\n",
       "      <td>733552</td>\n",
       "      <td>835873</td>\n",
       "    </tr>\n",
       "    <tr>\n",
       "      <th>unique</th>\n",
       "      <td>33</td>\n",
       "      <td>830774</td>\n",
       "      <td>16947</td>\n",
       "      <td>20190</td>\n",
       "      <td>111829</td>\n",
       "      <td>116682</td>\n",
       "    </tr>\n",
       "    <tr>\n",
       "      <th>top</th>\n",
       "      <td>user_000012</td>\n",
       "      <td>2009-02-11T12:14:38Z</td>\n",
       "      <td>164f0d73-1234-4e2c-8743-d77bf2191051</td>\n",
       "      <td>Kanye West</td>\n",
       "      <td>82558949-cd98-4c58-af35-3f1a9430d52e</td>\n",
       "      <td>Heartless</td>\n",
       "    </tr>\n",
       "    <tr>\n",
       "      <th>freq</th>\n",
       "      <td>75876</td>\n",
       "      <td>33</td>\n",
       "      <td>27115</td>\n",
       "      <td>27115</td>\n",
       "      <td>2069</td>\n",
       "      <td>2121</td>\n",
       "    </tr>\n",
       "  </tbody>\n",
       "</table>\n",
       "</div>"
      ],
      "text/plain": [
       "             userid             timestamp  \\\n",
       "count        835873                835873   \n",
       "unique           33                830774   \n",
       "top     user_000012  2009-02-11T12:14:38Z   \n",
       "freq          75876                    33   \n",
       "\n",
       "                                       artid     artname  \\\n",
       "count                                 810829      835873   \n",
       "unique                                 16947       20190   \n",
       "top     164f0d73-1234-4e2c-8743-d77bf2191051  Kanye West   \n",
       "freq                                   27115       27115   \n",
       "\n",
       "                                       traid    traname  \n",
       "count                                 733552     835873  \n",
       "unique                                111829     116682  \n",
       "top     82558949-cd98-4c58-af35-3f1a9430d52e  Heartless  \n",
       "freq                                    2069       2121  "
      ]
     },
     "execution_count": 9,
     "metadata": {},
     "output_type": "execute_result"
    }
   ],
   "source": [
    "df.describe()"
   ]
  },
  {
   "cell_type": "markdown",
   "metadata": {},
   "source": [
    "And here comes the first answer.\n",
    "\n",
    "We group by users, and their unique track names, and we get the count. I used track names first because we have grouped by users, and within the group we are getting all the unique track names.\n",
    "\n",
    "Below this we will get the unique tracks but using their IDs. This is just to give a different flavour and compare between the two results.\n",
    "\n",
    "What the below result is saying is that user 01 played 3092 distinct songs, user 02 played 8129 distinct songs, and so on."
   ]
  },
  {
   "cell_type": "code",
   "execution_count": 10,
   "metadata": {
    "scrolled": true
   },
   "outputs": [
    {
     "data": {
      "text/plain": [
       "userid\n",
       "user_000001     3092\n",
       "user_000002     8129\n",
       "user_000003     4565\n",
       "user_000004     5974\n",
       "user_000005     1974\n",
       "user_000006     7733\n",
       "user_000007     1093\n",
       "user_000008      608\n",
       "user_000009     2555\n",
       "user_000010      874\n",
       "user_000011     7533\n",
       "user_000012    12498\n",
       "user_000013     3060\n",
       "user_000014      280\n",
       "user_000015     2129\n",
       "user_000016     7084\n",
       "user_000017    11851\n",
       "user_000018     1131\n",
       "user_000019     3269\n",
       "user_000020     2000\n",
       "user_000021     9732\n",
       "user_000022     5730\n",
       "user_000023     2040\n",
       "user_000024    10272\n",
       "user_000025    11594\n",
       "user_000026     4338\n",
       "user_000027      823\n",
       "user_000028     6456\n",
       "user_000029     8858\n",
       "user_000030     3735\n",
       "user_000031    18723\n",
       "user_000032     1448\n",
       "user_000033     3704\n",
       "Name: traname, dtype: int64"
      ]
     },
     "execution_count": 10,
     "metadata": {},
     "output_type": "execute_result"
    }
   ],
   "source": [
    "df.groupby(['userid']).traname.nunique()"
   ]
  },
  {
   "cell_type": "markdown",
   "metadata": {},
   "source": [
    "And here we group using the track IDs. \n",
    "\n",
    "We notice that the numbers are slightly less than the above result. This is because number of track IDs is less than valid track names, and when the group by command is used, it ignores the null values."
   ]
  },
  {
   "cell_type": "code",
   "execution_count": 11,
   "metadata": {
    "scrolled": true
   },
   "outputs": [
    {
     "data": {
      "text/plain": [
       "userid\n",
       "user_000001     2325\n",
       "user_000002     7701\n",
       "user_000003     4075\n",
       "user_000004     5409\n",
       "user_000005     1378\n",
       "user_000006     4958\n",
       "user_000007      644\n",
       "user_000008      416\n",
       "user_000009     2333\n",
       "user_000010      603\n",
       "user_000011     6075\n",
       "user_000012    10568\n",
       "user_000013     2849\n",
       "user_000014      254\n",
       "user_000015     1962\n",
       "user_000016     6895\n",
       "user_000017    11853\n",
       "user_000018     1060\n",
       "user_000019     2888\n",
       "user_000020     1821\n",
       "user_000021     8993\n",
       "user_000022     4746\n",
       "user_000023     1906\n",
       "user_000024     9580\n",
       "user_000025    10500\n",
       "user_000026     3752\n",
       "user_000027      757\n",
       "user_000028     5168\n",
       "user_000029     8021\n",
       "user_000030     3665\n",
       "user_000031    17983\n",
       "user_000032     1375\n",
       "user_000033     2474\n",
       "Name: traid, dtype: int64"
      ]
     },
     "execution_count": 11,
     "metadata": {},
     "output_type": "execute_result"
    }
   ],
   "source": [
    "df.groupby(['userid']).traid.nunique()"
   ]
  }
 ],
 "metadata": {
  "kernelspec": {
   "display_name": "Python 3",
   "language": "python",
   "name": "python3"
  },
  "language_info": {
   "codemirror_mode": {
    "name": "ipython",
    "version": 3
   },
   "file_extension": ".py",
   "mimetype": "text/x-python",
   "name": "python",
   "nbconvert_exporter": "python",
   "pygments_lexer": "ipython3",
   "version": "3.6.1"
  }
 },
 "nbformat": 4,
 "nbformat_minor": 2
}
